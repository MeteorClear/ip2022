{
 "cells": [
  {
   "cell_type": "code",
   "execution_count": 19,
   "metadata": {},
   "outputs": [],
   "source": [
    "import numpy as np\n",
    "import cv2"
   ]
  },
  {
   "cell_type": "code",
   "execution_count": 20,
   "metadata": {},
   "outputs": [
    {
     "data": {
      "text/plain": [
       "False"
      ]
     },
     "execution_count": 20,
     "metadata": {},
     "output_type": "execute_result"
    }
   ],
   "source": [
    "cap = cv2.VideoCapture('coin.mp4')\n",
    "cap.set(cv2.CAP_PROP_FRAME_WIDTH, 1000)\n",
    "cap.set(cv2.CAP_PROP_FRAME_HEIGHT, 600)"
   ]
  },
  {
   "cell_type": "code",
   "execution_count": 21,
   "metadata": {},
   "outputs": [],
   "source": [
    "while(1):\n",
    "    ret, frame = cap.read()\n",
    "    if not ret:\n",
    "        break\n",
    "    roi = frame.copy()\n",
    "    gray = cv2.cvtColor(roi, cv2.COLOR_BGR2GRAY)\n",
    "    gray_blur = cv2.GaussianBlur(gray, (15, 15), 0)\n",
    "    thresh = cv2.adaptiveThreshold(gray_blur, 255, cv2.ADAPTIVE_THRESH_GAUSSIAN_C, cv2.THRESH_BINARY_INV, 11, 1)\n",
    "    kernel = np.ones((2, 2), np.uint8)\n",
    "    erosion = cv2.erode(thresh, kernel, iterations=3)\n",
    "    closing = cv2.morphologyEx(erosion, cv2.MORPH_CLOSE, kernel, iterations=3)\n",
    "    cont_img = closing.copy()\n",
    "    contours, hierarchy = cv2.findContours(cont_img, cv2.RETR_EXTERNAL, cv2.CHAIN_APPROX_SIMPLE)\n",
    "    \n",
    "    for cnt in contours:\n",
    "        area = cv2.contourArea(cnt)\n",
    "        if area < 200 or area > 10000:\n",
    "            continue\n",
    "        if len(cnt) < 5:\n",
    "            continue\n",
    "        ellipse = cv2.fitEllipse(cnt)\n",
    "        cv2.ellipse(roi, ellipse, (0,255,0), 2)\n",
    "\n",
    "    cv2.imshow(\"Morphological Closing\", closing)\n",
    "    cv2.imshow(\"Adaptive Thresholding\", thresh)\n",
    "    cv2.imshow('Contours', roi)\n",
    "\n",
    "    if cv2.waitKey(1) & 0xFF == 27:\n",
    "        break\n",
    "\n",
    "cap.release()\n",
    "cv2.destroyAllWindows()"
   ]
  }
 ],
 "metadata": {
  "kernelspec": {
   "display_name": "Python 3.9.7 ('cvp')",
   "language": "python",
   "name": "python3"
  },
  "language_info": {
   "codemirror_mode": {
    "name": "ipython",
    "version": 3
   },
   "file_extension": ".py",
   "mimetype": "text/x-python",
   "name": "python",
   "nbconvert_exporter": "python",
   "pygments_lexer": "ipython3",
   "version": "3.9.7 (default, Sep 16 2021, 16:59:28) [MSC v.1916 64 bit (AMD64)]"
  },
  "orig_nbformat": 4,
  "vscode": {
   "interpreter": {
    "hash": "b051dacafc7f664e5a3ecf214cc47b807fc81bd2270c8aee005ef1e0eceafcd0"
   }
  }
 },
 "nbformat": 4,
 "nbformat_minor": 2
}
