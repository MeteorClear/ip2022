{
 "cells": [
  {
   "cell_type": "code",
   "execution_count": 167,
   "metadata": {},
   "outputs": [],
   "source": [
    "import cv2\n",
    "import numpy as np"
   ]
  },
  {
   "cell_type": "code",
   "execution_count": 168,
   "metadata": {},
   "outputs": [],
   "source": [
    "img = cv2.imread('img1.jpg')\n",
    "temp_img = img.copy()\n",
    "\n",
    "click = False\n",
    "x1,y1 = -1,-1\n",
    "x2,y2 = -1,-1\n",
    "alpha = 0\n",
    "\n",
    "COLOR_WHITE = (255,255,255)\n",
    "COLOR_BLUE = (255,0,0)\n",
    "COLOR_GREEN = (0,255,0)\n",
    "COLOR_RED = (0,0,255)"
   ]
  },
  {
   "cell_type": "code",
   "execution_count": 169,
   "metadata": {},
   "outputs": [],
   "source": [
    "def coordinate_normalized():\n",
    "    global x1,y1,x2,y2\n",
    "    c_temp1, c_temp2 = x1, y1\n",
    "    \n",
    "    x1 = min(c_temp1, x2)\n",
    "    y1 = min(c_temp2, y2)\n",
    "    x2 = max(c_temp1, x2)\n",
    "    y2 = max(c_temp2, y2)"
   ]
  },
  {
   "cell_type": "code",
   "execution_count": 170,
   "metadata": {},
   "outputs": [],
   "source": [
    "def draw_alpha():\n",
    "    coordinate_normalized()\n",
    "    \n",
    "    for i in range(0, abs(x2-x1)):\n",
    "        for j in range(0, abs(y2-y1)):\n",
    "            img.itemset((y1+j,x1+i, 2), 255-alpha)"
   ]
  },
  {
   "cell_type": "code",
   "execution_count": 171,
   "metadata": {},
   "outputs": [],
   "source": [
    "def draw_inner_rectangle():\n",
    "    coordinate_normalized()\n",
    "    temp_f_img = temp_img[y1:y2, x1:x2]\n",
    "    #cv2.imshow(\"temp\", temp_f_img)\n",
    "\n",
    "    (B, G, R) = cv2.split(temp_f_img)\n",
    "    #cv2.imshow(\"Red\", R)\n",
    "\n",
    "    zeros = np.zeros(temp_f_img.shape[:2], dtype = \"uint8\")\n",
    "    red_img = cv2.merge([zeros, zeros, R])\n",
    "    #cv2.imshow(\"Red\", red_img)\n",
    "\n",
    "    dst = cv2.addWeighted(red_img,((100-alpha)/100), temp_f_img,(alpha/100), 0)\n",
    "    #cv2.imshow(\"add\", dst)\n",
    "\n",
    "    img[y1:y2, x1:x2] = dst"
   ]
  },
  {
   "cell_type": "code",
   "execution_count": 172,
   "metadata": {},
   "outputs": [],
   "source": [
    "def nothing(x):\n",
    "    #draw_alpha()\n",
    "    draw_inner_rectangle()"
   ]
  },
  {
   "cell_type": "code",
   "execution_count": 173,
   "metadata": {},
   "outputs": [],
   "source": [
    "def draw_rectangle(event, x, y, flags, param):\n",
    "    global x1,y1,x2,y2, click, img\n",
    "\n",
    "    if event == cv2.EVENT_LBUTTONDOWN:\n",
    "        if not(click):\n",
    "            img = temp_img.copy()\n",
    "        click = True\n",
    "        x1, y1 = x,y\n",
    "\t\t\n",
    "    elif event == cv2.EVENT_MOUSEMOVE:\n",
    "        if click == True:\n",
    "            img = temp_img.copy()\n",
    "            cv2.rectangle(img,(x1,y1),(x,y),COLOR_GREEN,2)\n",
    "\n",
    "    elif event == cv2.EVENT_LBUTTONUP:\n",
    "        click = False\n",
    "        x2, y2 = x,y\n",
    "        cv2.rectangle(img,(x1,y1),(x,y),COLOR_GREEN,1)\n",
    "        #draw_alpha()\n",
    "        draw_inner_rectangle()\n",
    "        cv2.putText(img, \"Mouse position (\"+str(x1)+\",\"+str(y1)+\") - (\"+str(x2)+\",\"+str(y2)+\")\", (10,25), cv2.FONT_ITALIC, 0.5, COLOR_WHITE, 1)"
   ]
  },
  {
   "cell_type": "code",
   "execution_count": 174,
   "metadata": {},
   "outputs": [],
   "source": [
    "cv2.namedWindow('image')\n",
    "cv2.createTrackbar('value','image',0,100,nothing)\n",
    "cv2.setMouseCallback('image',draw_rectangle)\n",
    "\n",
    "while(1):\n",
    "    cv2.imshow('image',img)\n",
    "    k = cv2.waitKey(1) & 0xFF\n",
    "    if k == 27:\n",
    "        break\n",
    "\n",
    "    alpha = cv2.getTrackbarPos('value','image')\n",
    "    \n",
    "cv2.destroyAllWindows()\n"
   ]
  },
  {
   "cell_type": "code",
   "execution_count": null,
   "metadata": {},
   "outputs": [],
   "source": []
  }
 ],
 "metadata": {
  "kernelspec": {
   "display_name": "Python 3.9.7 ('cvp')",
   "language": "python",
   "name": "python3"
  },
  "language_info": {
   "codemirror_mode": {
    "name": "ipython",
    "version": 3
   },
   "file_extension": ".py",
   "mimetype": "text/x-python",
   "name": "python",
   "nbconvert_exporter": "python",
   "pygments_lexer": "ipython3",
   "version": "3.9.7"
  },
  "orig_nbformat": 4,
  "vscode": {
   "interpreter": {
    "hash": "b051dacafc7f664e5a3ecf214cc47b807fc81bd2270c8aee005ef1e0eceafcd0"
   }
  }
 },
 "nbformat": 4,
 "nbformat_minor": 2
}
