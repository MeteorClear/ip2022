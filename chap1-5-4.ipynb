{
 "cells": [
  {
   "cell_type": "code",
   "execution_count": null,
   "metadata": {},
   "outputs": [],
   "source": [
    "import cv2\n",
    "import numpy as np\n",
    "from matplotlib import pyplot as plt\n",
    "\n",
    "img = cv2.imread('Image/home.jpg')\n",
    "sift = cv2.SIFT_create()\n",
    "gray = cv2.cvtColor(img,cv2.COLOR_BGR2GRAY)\n",
    "gray = np.float32(gray)\n",
    "dst = cv2.cornerHarris(gray,2,3,0.04)\n",
    "\n",
    "kp = sift.detect(gray,None)\n",
    "imgsift = cv2.imread('Image/home.jpg')\n",
    "imgsift = cv2.drawKeypoints(img,kp,imgsift, flags=cv2.DRAW_MATCHES_FLAGS_DRAW_RICH_KEYPOINTS)\n",
    "\n",
    "plt.figure(figsize = (30,45))\n",
    "plt.subplot(1,2,1),plt.imshow(img,cmap = 'gray')\n",
    "plt.title('img'), plt.xticks([]), plt.yticks([])\n",
    "plt.subplot(1,2,2),plt.imshow(imgsift,cmap = 'gray')\n",
    "plt.title('imgsift'), plt.xticks([]), plt.yticks([])\n",
    "plt.show()"
   ]
  }
 ],
 "metadata": {
  "kernelspec": {
   "display_name": "cvp",
   "language": "python",
   "name": "python3"
  },
  "language_info": {
   "codemirror_mode": {
    "name": "ipython",
    "version": 3
   },
   "file_extension": ".py",
   "mimetype": "text/x-python",
   "name": "python",
   "nbconvert_exporter": "python",
   "pygments_lexer": "ipython3",
   "version": "3.9.7 (default, Sep 16 2021, 16:59:28) [MSC v.1916 64 bit (AMD64)]"
  },
  "vscode": {
   "interpreter": {
    "hash": "b051dacafc7f664e5a3ecf214cc47b807fc81bd2270c8aee005ef1e0eceafcd0"
   }
  }
 },
 "nbformat": 4,
 "nbformat_minor": 4
}
